{
 "cells": [
  {
   "cell_type": "markdown",
   "metadata": {},
   "source": [
    "### Objective - Event Registration Agent\n",
    "- Allows users to navigate topics available in a seminar and to register"
   ]
  },
  {
   "cell_type": "code",
   "execution_count": 84,
   "metadata": {},
   "outputs": [],
   "source": [
    "# Basic Imports\n",
    "import os\n",
    "from dotenv import load_dotenv, find_dotenv\n",
    "_ = load_dotenv(find_dotenv())"
   ]
  },
  {
   "cell_type": "code",
   "execution_count": 85,
   "metadata": {},
   "outputs": [],
   "source": [
    "# Define Agent State\n",
    "from typing import Annotated\n",
    "from typing_extensions import TypedDict\n",
    "import operator\n",
    "from langgraph.graph.message import add_messages\n",
    "from langchain_core.messages import  AnyMessage, SystemMessage, HumanMessage, ToolMessage\n",
    "\n",
    "class RegisterState(TypedDict):\n",
    "    \"\"\" State representing User interaction with Event Registration Agent that persists all conversations between human, agent and function calls. \"\"\"\n",
    "    messages: Annotated[list[AnyMessage], operator.add]\n",
    "    registered_events : list[str]\n",
    "    finished_conversation : bool\n",
    "\n",
    "\n",
    "system_prompt = \"\"\" \n",
    "You are a helpful ai assistant that helps users register for events going to be held on June 1, 2025 at Hunt Valley, MD, USA - 21030. The name of the event is - Generative AI for Software Developers.\n",
    "You will be provided with a list of events and their details.\n",
    "You will ask the user for their name and email address.\n",
    "You will then ask the user which events they would like to register for. Then You shall allow the user to enter one event at a time by calling the function add_registration\n",
    "You will confirm with the user before registering them for the event, or allow them to change their mind by fetching the data added by calling get_registration.\n",
    "If the user confirms the event you will register them by calling the function confirm_registration.\n",
    "If the user wants to cancel the registration for an event, you will call the function delete_registration.\n",
    "If the user wants to modify the registration for an event that the user had registered before, then just delete the previous registration by calling function delete_registration and create a new one by calling function add_registration.\n",
    "You will then register the user for those events.\n",
    "You will then ask the user if they would like to register for any other events.\n",
    "If the user says no, you will end the conversation. After ending the convesation show a summary of registration by calling function summary_registration.\n",
    "If you encounter a situation for which you do not have an answer or a function call, then simply return a response back to the user that this enhancement is not quite available, and will be available in future.\n",
    "Keep all the conversation related to the registration of the event only. Do not engage into personal or emotional conversations.\n",
    "\"\"\"\n",
    "welcome_prompt = \"\"\" \n",
    "welcome to the registration agent for the Seminar - Generative AI for Software Developers. \n",
    "How can I help you today ? Please provide your email to register for the event. \n",
    "You shall get a chance to add/delete/modify your registration. To finish the chat simply type - quit\n",
    "\"\"\"\n",
    "\n"
   ]
  },
  {
   "cell_type": "code",
   "execution_count": 86,
   "metadata": {},
   "outputs": [],
   "source": [
    "# Define Chatbot\n",
    "from langgraph.graph import StateGraph, START, END\n",
    "from langchain_google_genai import ChatGoogleGenerativeAI\n",
    "from typing import Literal\n",
    "\n",
    "llm = ChatGoogleGenerativeAI(model=\"gemini-2.0-flash\")\n",
    "\n",
    "# Define Agent Node\n",
    "def agent(state: RegisterState) -> RegisterState:\n",
    "    \"\"\" This is a simplle chatbot that can help with registration \"\"\"\n",
    "    message_history = [SystemMessage(content=system_prompt)] + state[\"messages\"]\n",
    "    return {\"messages\": [llm.invoke(message_history)]}\n",
    "\n",
    "# Define Human Node\n",
    "def human_node(state: RegisterState) -> RegisterState:\n",
    "    \"\"\" Display last model message to user and receive user input \"\"\"\n",
    "    last_message = state[\"messages\"][-1]\n",
    "    print(f\"Assistant: {last_message.content}\")\n",
    "    user_msg = input(\"User: \")\n",
    "    if user_msg.lower() == \"quit\":\n",
    "        state[\"finished_conversation\"] = True\n",
    "        return state\n",
    "    return state | {\"messages\": [HumanMessage(content=user_msg)]}\n",
    "\n",
    "\n",
    "def welcome_node(state: RegisterState) -> RegisterState:\n",
    "    \"\"\" Display welcome message to user and receive user input \"\"\"\n",
    "    if state[\"messages\"]:\n",
    "        new_message = [SystemMessage(content=system_prompt)] + state[\"messages\"]\n",
    "    else:\n",
    "        new_message = [SystemMessage(content=welcome_prompt)]\n",
    "    return state | {\"messages\": new_message}\n",
    "\n",
    "def user_quit_node(state: RegisterState) -> Literal[\"agent\", \"__end__\"]:\n",
    "    \"\"\" Display goodbye message to user and receive user input \"\"\"\n",
    "    if state[\"finished_conversation\"]:\n",
    "        return END\n",
    "    else :\n",
    "        return \"agent\"\n",
    "    return state | {\"messages\": [SystemMessage(content=\"Goodbye!\")]}\n"
   ]
  },
  {
   "cell_type": "code",
   "execution_count": 89,
   "metadata": {},
   "outputs": [],
   "source": [
    "# Build StateGraph\n",
    "register_graph_builder = StateGraph(RegisterState)\n",
    "register_graph_builder.add_node(\"agent\", welcome_node)\n",
    "register_graph_builder.add_node(\"human\", human_node)\n",
    "register_graph_builder.add_edge(START, \"agent\")\n",
    "register_graph_builder.add_edge(\"agent\",\"human\")\n",
    "register_graph_builder.add_conditional_edges(\"human\", user_quit_node)\n",
    "register_graph = register_graph_builder.compile()"
   ]
  },
  {
   "cell_type": "code",
   "execution_count": null,
   "metadata": {},
   "outputs": [],
   "source": [
    "# Invoke Chat \n",
    "from pprint import pprint\n",
    "config = {\"recursion_limit\": 100}\n",
    "user_msg = input(\"User: \")\n",
    "messages = [HumanMessage(content=user_msg)]\n",
    "\n",
    "ai_events = register_graph.invoke({\"messages\": []},config=config)\n",
    "\n",
    "for msg in ai_events[\"messages\"]:\n",
    "    pprint(msg)\n",
    "    "
   ]
  }
 ],
 "metadata": {
  "kernelspec": {
   "display_name": "venv",
   "language": "python",
   "name": "python3"
  },
  "language_info": {
   "codemirror_mode": {
    "name": "ipython",
    "version": 3
   },
   "file_extension": ".py",
   "mimetype": "text/x-python",
   "name": "python",
   "nbconvert_exporter": "python",
   "pygments_lexer": "ipython3",
   "version": "3.13.2"
  }
 },
 "nbformat": 4,
 "nbformat_minor": 2
}
