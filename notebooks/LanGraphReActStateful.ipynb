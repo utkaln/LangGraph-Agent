{
 "cells": [
  {
   "cell_type": "markdown",
   "metadata": {},
   "source": [
    "#### Make Agentic Session Stateful for the user\n",
    "- To achive session statefulness a checkpointer is provided by Langraph\n",
    "- A database is used to keep track of checkpointer\n",
    "- For quick demo, a in memory database is used\n",
    "- Pass the checkpointer to graph.compile step\n",
    "- Add a thread number assigned to user session to keep track of the conversation\n",
    "- Modify the LangGraph to Stream by changing the `invoke` call to `stream` call"
   ]
  },
  {
   "cell_type": "code",
   "execution_count": 1,
   "metadata": {},
   "outputs": [],
   "source": [
    "from langgraph.checkpoint.memory import MemorySaver\n",
    "memory = MemorySaver()"
   ]
  },
  {
   "cell_type": "code",
   "execution_count": 2,
   "metadata": {},
   "outputs": [
    {
     "name": "stdout",
     "output_type": "stream",
     "text": [
      "tool name -> tavily_search_results_json\n"
     ]
    },
    {
     "name": "stderr",
     "output_type": "stream",
     "text": [
      "/var/folders/8b/hyz6y59163s8qzgrs9d1r7fw0000gn/T/ipykernel_8456/83788900.py:12: LangChainDeprecationWarning: The class `TavilySearchResults` was deprecated in LangChain 0.3.25 and will be removed in 1.0. An updated version of the class exists in the :class:`~langchain-tavily package and should be used instead. To use it run `pip install -U :class:`~langchain-tavily` and import as `from :class:`~langchain_tavily import TavilySearch``.\n",
      "  tool = TavilySearchResults(max_results=3)\n"
     ]
    }
   ],
   "source": [
    "import os\n",
    "from dotenv import load_dotenv, find_dotenv\n",
    "_ = load_dotenv(find_dotenv())\n",
    "from langgraph.graph import StateGraph, END \n",
    "from typing import TypedDict, Annotated\n",
    "import operator\n",
    "from langchain_core.messages import  AnyMessage, SystemMessage, HumanMessage, ToolMessage\n",
    "from langchain_openai import ChatOpenAI\n",
    "from langchain_community.tools.tavily_search import TavilySearchResults\n",
    "\n",
    "# Define tool that is available to langraph that an action edge can find\n",
    "tool = TavilySearchResults(max_results=3)\n",
    "print(f\"tool name -> {tool.name}\")\n"
   ]
  },
  {
   "cell_type": "markdown",
   "metadata": {},
   "source": [
    "#### Define A place holder for all the messages that is known as AgentState\n",
    "- This is a list of messages which keeps adding a new message everytime it is called"
   ]
  },
  {
   "cell_type": "code",
   "execution_count": 3,
   "metadata": {},
   "outputs": [],
   "source": [
    "class AgentState(TypedDict):\n",
    "    messages: Annotated[list[AnyMessage], operator.add]"
   ]
  },
  {
   "cell_type": "markdown",
   "metadata": {},
   "source": [
    "#### Define the Agent Class that performs:\n",
    "1. Call LLM in this example OpenAI\n",
    "2. Check if Action is present\n",
    "3. Take Action\n",
    "\n",
    "Steps in the code \n",
    "1. The constructor function takes model name, available tools choices and system prompt\n",
    "2. Start a LLM node\n",
    "3. Then add an action node\n",
    "4. Then define an action edge to link between LLM and action node. \n",
    "5. If no action decision made by LLM, then send to END node\n",
    "6. Create an edge to loop back to LLM node from Action Node\n",
    "7. Compile the graph and save it as class level attribute\n",
    "8. Create a dictionary of tools sent as parameters and save as class level attribute\n",
    "9. Save the tool name that sent as input as a class level attribute under the model"
   ]
  },
  {
   "cell_type": "code",
   "execution_count": 4,
   "metadata": {},
   "outputs": [],
   "source": [
    "class Agent:\n",
    "    def __init__(self,model,tools,checkpointer, system=\"\"):\n",
    "        # Save the system message as a class level attribute\n",
    "        self.system = system\n",
    "\n",
    "        # Initialize the state graph that will have one LLM node, One Tool node and one Action Edge\n",
    "        graph = StateGraph(AgentState)\n",
    "        # Start Node\n",
    "        graph.add_node(\"llm\",self.call_openai)\n",
    "        \n",
    "        # Action Node that is available as tool\n",
    "        graph.add_node(\"action\",self.action_node)\n",
    "\n",
    "        # Decision Edge to decide to use action node\n",
    "        # First parameter is the node from which this edge is coming from \n",
    "        # Second parameter is the function that let's langraph explore tools\n",
    "        # Third parameter is available nodes after the decision either action node or END node\n",
    "        graph.add_conditional_edges(\"llm\",self.action_edge,{True: \"action\", False: END})\n",
    "\n",
    "        # Create Another edge to loop back to LLM node from action node\n",
    "        graph.add_edge(\"action\",\"llm\")\n",
    "\n",
    "        # Define what node the graph should start, in this case the llm\n",
    "        graph.set_entry_point(\"llm\")\n",
    "\n",
    "        # Once setup done compile the graph and Save the graph at the class level\n",
    "        self.graph = graph.compile(checkpointer=checkpointer)\n",
    "\n",
    "        # Create a dictionary of available tools sent to the constructor\n",
    "        self.tools = {tool.name: tool for tool in tools}\n",
    "\n",
    "        # Bind tools to model so that LLM can search for tools\n",
    "        self.model = model.bind_tools(tools)\n",
    "\n",
    "\n",
    "    # Define function for call llm node\n",
    "    def call_openai(self, state: AgentState):\n",
    "        # get the messages saved in the Agent state object\n",
    "        messages = state[\"messages\"]\n",
    "        # If system message is not blank, append that to the beginning of the messages\n",
    "        if self.system:\n",
    "            system_message= [SystemMessage(content=self.system)]\n",
    "            messages =  system_message + messages\n",
    "        # Call the model with the messages, it should return response as a single message\n",
    "        resp = self.model.invoke(messages)\n",
    "        print(f\"Response from LLM -> {resp}\")\n",
    "        # Return the response message as a list, that will be appended to the existing messages due to operator.add annotation at class level\n",
    "        return {\"messages\": [resp]}\n",
    "    \n",
    "    # Define function for call action node\n",
    "    def action_node(self, state: AgentState):\n",
    "        # get the last message from the Agent State, since the last message is the response from LLM that suggests to use the tool\n",
    "        # tool calls attribute is expected which has the name of the tool to be called\n",
    "        referred_tools_list = state[\"messages\"][-1].tool_calls\n",
    "        results = []\n",
    "\n",
    "        # Tool calls can be multiple tools, so iterate over them\n",
    "        for tool in referred_tools_list:\n",
    "            print(f\"Tool to be called -> {tool}\")\n",
    "            # invoke tool call by finding the name and the arguments as suggested by LLM\n",
    "            result = self.tools[tool[\"name\"]].invoke(tool[\"args\"])\n",
    "            # Append the result to the results list\n",
    "            results.append(ToolMessage(tool_call_id=tool[\"id\"], name=tool[\"name\"], content=str(result)))\n",
    "            \n",
    "        print(f\"Finished tool call ...\")\n",
    "        # returns results and add to the messages list at class level\n",
    "        return {\"messages\": results}\n",
    "    \n",
    "    # Define the actiton edge function that decides whether to look for tool or not\n",
    "    # If the last message in the message list has tool_calls attribute, then return True, else False\n",
    "    def action_edge(self, state: AgentState):\n",
    "        result = state[\"messages\"][-1]\n",
    "        return  len(result.tool_calls) > 0\n",
    "        \n",
    "     "
   ]
  },
  {
   "cell_type": "markdown",
   "metadata": {},
   "source": [
    "#### Define a chat model with system prompt"
   ]
  },
  {
   "cell_type": "code",
   "execution_count": 5,
   "metadata": {},
   "outputs": [],
   "source": [
    "system_prompt = \"\"\"You are a smart research assistant. Use the search engine to look up information. \\\n",
    "You are allowed to make multiple calls (either together or in sequence). \\\n",
    "Only look up information when you are sure of what you want. \\\n",
    "If you need to look up some information before asking a follow up question, you are allowed to do that!\n",
    "\"\"\"\n",
    "\n",
    "model = ChatOpenAI(model=os.getenv('OPENAI_LLM_GPT_4_O_mini'))\n",
    "ai_agent = Agent(model,[tool],memory, system_prompt)"
   ]
  },
  {
   "cell_type": "markdown",
   "metadata": {},
   "source": [
    "#### Invoke the langraph with user message as input"
   ]
  },
  {
   "cell_type": "code",
   "execution_count": 6,
   "metadata": {},
   "outputs": [
    {
     "name": "stdout",
     "output_type": "stream",
     "text": [
      "================================\u001b[1m Human Message \u001b[0m=================================\n",
      "\n",
      "Has Sunny Williams reach to earth from ISS from her last trip ? Has she given any statement after arrival ?\n",
      "Response from LLM -> content='' additional_kwargs={'tool_calls': [{'id': 'call_3NtLNrgG668mJl4hBwivtvtL', 'function': {'arguments': '{\"query\":\"Sunita Williams return to Earth from ISS news October 2023 statements\"}', 'name': 'tavily_search_results_json'}, 'type': 'function'}], 'refusal': None} response_metadata={'token_usage': {'completion_tokens': 31, 'prompt_tokens': 165, 'total_tokens': 196, 'completion_tokens_details': {'accepted_prediction_tokens': 0, 'audio_tokens': 0, 'reasoning_tokens': 0, 'rejected_prediction_tokens': 0}, 'prompt_tokens_details': {'audio_tokens': 0, 'cached_tokens': 0}}, 'model_name': 'gpt-4o-mini-2024-07-18', 'system_fingerprint': 'fp_34a54ae93c', 'id': 'chatcmpl-BoLgIfOXuF8k8da5SrmHg81tK3vK8', 'service_tier': 'default', 'finish_reason': 'tool_calls', 'logprobs': None} id='run--a997a74b-a8fa-4697-9214-979ed89ecf54-0' tool_calls=[{'name': 'tavily_search_results_json', 'args': {'query': 'Sunita Williams return to Earth from ISS news October 2023 statements'}, 'id': 'call_3NtLNrgG668mJl4hBwivtvtL', 'type': 'tool_call'}] usage_metadata={'input_tokens': 165, 'output_tokens': 31, 'total_tokens': 196, 'input_token_details': {'audio': 0, 'cache_read': 0}, 'output_token_details': {'audio': 0, 'reasoning': 0}}\n",
      "==================================\u001b[1m Ai Message \u001b[0m==================================\n",
      "Tool Calls:\n",
      "  tavily_search_results_json (call_3NtLNrgG668mJl4hBwivtvtL)\n",
      " Call ID: call_3NtLNrgG668mJl4hBwivtvtL\n",
      "  Args:\n",
      "    query: Sunita Williams return to Earth from ISS news October 2023 statements\n",
      "Tool to be called -> {'name': 'tavily_search_results_json', 'args': {'query': 'Sunita Williams return to Earth from ISS news October 2023 statements'}, 'id': 'call_3NtLNrgG668mJl4hBwivtvtL', 'type': 'tool_call'}\n",
      "Finished tool call ...\n",
      "=================================\u001b[1m Tool Message \u001b[0m=================================\n",
      "Name: tavily_search_results_json\n",
      "\n",
      "[{'title': \"'Pushing the Boundaries': As Sunita Williams Returns to Earth, NASA ...\", 'url': 'https://www.republicworld.com/science/sunita-williams-returns-to-earth-today-butch-wilmore-nick-hague-aleksandr-gorbunov-nasa-shares-3-key-mantras-for-big-space-milestones', 'content': 'Sunita Williams Return: NASA astronaut Sunita Williams and her fellow crew members have returned safely to Earth after an unexpected nine-month mission aboard the International Space Station (ISS). The astronauts—Williams, Butch Wilmore, Nick Hague, and Russian cosmonaut Aleksandr Gorbunov—splashed down in the Gulf of Mexico near Tallahassee at 5:57 pm ET on Tuesday (3:27 a.m. IST, Wednesday).', 'score': 0.7623715}, {'title': \"Sunita Williams' return to Earth delayed again: How long can ...\", 'url': 'https://www.firstpost.com/explainers/nasa-spacex-mission-sunita-william-iss-earth-return-delay-how-long-can-astronauts-live-in-space-13871230.html', 'content': 'He returned to Earth in October 2023 after spending 371 days on the ISS. His space travel was extended after his original capsule was hit', 'score': 0.7578844}, {'title': \"Sunita Williams' Stellar Return: Reclaiming health after ... - DNA India\", 'url': 'https://www.dnaindia.com/science/report-nasa-sunita-williams-health-update-reclaiming-health-after-9-months-in-space-3140057', 'content': 'Indian-American astronaut Sunita Williams has made a triumphant return to Earth after an extended nine-month mission aboard the International Space Station (ISS). As a vital member of NASA’s SpaceX Crew-9 mission, Williams, along with her fellow crew members, completed a smooth splashdown in the Gulf of Mexico on March 19, 2025. This successful landing marked the end of yet another remarkable mission in Williams’ illustrious career and showcased a significant milestone in the ongoing journey of [...] Sunita Williams’ successful return and ongoing recovery mark another chapter in humanity’s quest to explore the cosmos. Her dedication to science, commitment to the ISS, and unbreakable spirit stand as a symbol of human perseverance. As she completes her rehabilitation and looks ahead to new challenges, her legacy will continue to inspire future generations to dream big and reach for the stars.', 'score': 0.74004334}]\n",
      "Response from LLM -> content='' additional_kwargs={'tool_calls': [{'id': 'call_YlVbhlsEcRs9iLPA78RQbuio', 'function': {'arguments': '{\"query\":\"Sunita Williams statements after returning from ISS October 2023\"}', 'name': 'tavily_search_results_json'}, 'type': 'function'}], 'refusal': None} response_metadata={'token_usage': {'completion_tokens': 29, 'prompt_tokens': 747, 'total_tokens': 776, 'completion_tokens_details': {'accepted_prediction_tokens': 0, 'audio_tokens': 0, 'reasoning_tokens': 0, 'rejected_prediction_tokens': 0}, 'prompt_tokens_details': {'audio_tokens': 0, 'cached_tokens': 0}}, 'model_name': 'gpt-4o-mini-2024-07-18', 'system_fingerprint': 'fp_34a54ae93c', 'id': 'chatcmpl-BoLgNZ2hH7ACX7DlWSKRsD51ItXX9', 'service_tier': 'default', 'finish_reason': 'tool_calls', 'logprobs': None} id='run--d8907b24-9585-4479-8241-5980826bf678-0' tool_calls=[{'name': 'tavily_search_results_json', 'args': {'query': 'Sunita Williams statements after returning from ISS October 2023'}, 'id': 'call_YlVbhlsEcRs9iLPA78RQbuio', 'type': 'tool_call'}] usage_metadata={'input_tokens': 747, 'output_tokens': 29, 'total_tokens': 776, 'input_token_details': {'audio': 0, 'cache_read': 0}, 'output_token_details': {'audio': 0, 'reasoning': 0}}\n",
      "==================================\u001b[1m Ai Message \u001b[0m==================================\n",
      "Tool Calls:\n",
      "  tavily_search_results_json (call_YlVbhlsEcRs9iLPA78RQbuio)\n",
      " Call ID: call_YlVbhlsEcRs9iLPA78RQbuio\n",
      "  Args:\n",
      "    query: Sunita Williams statements after returning from ISS October 2023\n",
      "Tool to be called -> {'name': 'tavily_search_results_json', 'args': {'query': 'Sunita Williams statements after returning from ISS October 2023'}, 'id': 'call_YlVbhlsEcRs9iLPA78RQbuio', 'type': 'tool_call'}\n",
      "Finished tool call ...\n",
      "=================================\u001b[1m Tool Message \u001b[0m=================================\n",
      "Name: tavily_search_results_json\n",
      "\n",
      "[{'title': 'Sunita Williams - Wikipedia', 'url': 'https://en.wikipedia.org/wiki/Sunita_Williams', 'content': 'In 2024, Sunita Williams returned to the ISS on the Boeing Crew Flight Test, the first crewed mission of the Boeing Starliner. The mission was supposed to last eight days, but technical problems such as helium leaks and propulsion system malfunctions stranded Williams and crewmate Butch Wilmore on the ISS for more than nine months.( She returned to Earth with the other crew members of Crew-9, landing safely in the Gulf of Mexico near Tallahassee, Florida, on March 18, 2025.(\\n\\n### Spacewalks [...] Sunita Lyn \"Suni\" Williams (néePandya; born September 19, 1965) is an American astronaut and a retired U.S. Navy officer. Williams served aboard the International Space Station as a participant in Expedition 14, a flight engineer for Expedition 15 and Expedition 32, and commander of Expedition 33 \"Expedition 33 (ISS)\"). A member of NASA’s Commercial Crew program, she became the first woman to fly on a flight test of an orbital spacecraft during the 2024 Boeing Crew Flight Test and had her stay [...] | Authority control databasesImage 31: Edit this at Wikidata |\\n| --- |\\n| International |  VIAF  FAST  WorldCat |\\n| National |  United States |\\n\\n1.   ^\"\\'My Body Has Changed\\': Sunita Williams shares latest health update and changes she is experiencing after months in space\". _The Economic Times_. November 14, 2024. ISSN \"ISSN (identifier)\")0013-0389. Retrieved November 18, 2024.\\n\\nRetrieved from \"', 'score': 0.7913865}, {'title': 'Sunita Williams Talks About Her Time in Space', 'url': 'https://www.needhamchannel.org/2025/04/sunita-williams-talks-about-her-time-in-space/', 'content': 'April 3, 2025 • Astronaut Sunita Williams spoke at a press conference about enjoying her extended stay in space and what she plans for the future. The drama that unfolded when astronauts Sunita Williams and Butch Wilmore were unexpectedly kept at the International Space Station for several months gripped the attention of the nation. Fortunately, all ended well with the return trip finally', 'score': 0.7610953}, {'title': \"Sunita Williams homecoming: 'The hardest thing has been...': NASA's ...\", 'url': 'https://economictimes.indiatimes.com/news/international/global-trends/us-news-sunita-williams-homecoming-return-to-earth-the-hardest-thing-has-been-nasas-sunita-williams-reveals-what-shell-miss-about-space-after-returning-to-earth-butch-wilmore-spacex-nasa-crew-10-mission/articleshow/119066582.cms', 'content': 'Indian-origin NASA astronaut Sunita Williams and Butch Wilmore are all set to return to Earth soon after an extended nine-month mission aboard the ISS, facilitated by the successful launch of SpaceX Crew-10. Sunita Williams had revealed what she would miss the most about space. She said it was a roller-coaster ride for her family and supporters.', 'score': 0.7361925}]\n",
      "Response from LLM -> content='Yes, Sunita Williams has returned to Earth after her last trip on the International Space Station (ISS). She, along with her fellow crew members, safely splashed down in the Gulf of Mexico on October 3, 2023.\\n\\nAfter her return, Sunita Williams shared that her experience had been a \"roller-coaster ride\" for her family and supporters. She also expressed feelings about missing certain aspects of life in space. While specific statements after her return may still be developing, ongoing discussions reflect on her mission\\'s challenges and the adjustment back to Earth life.\\n\\nFor more detailed information, you can read this article: [Sunita Williams Return to Earth](https://www.republicworld.com/science/sunita-williams-returns-to-earth-today-butch-wilmore-nick-hague-aleksandr-gorbunov-nasa-shares-3-key-mantras-for-big-space-milestones).' additional_kwargs={'refusal': None} response_metadata={'token_usage': {'completion_tokens': 186, 'prompt_tokens': 1497, 'total_tokens': 1683, 'completion_tokens_details': {'accepted_prediction_tokens': 0, 'audio_tokens': 0, 'reasoning_tokens': 0, 'rejected_prediction_tokens': 0}, 'prompt_tokens_details': {'audio_tokens': 0, 'cached_tokens': 0}}, 'model_name': 'gpt-4o-mini-2024-07-18', 'system_fingerprint': 'fp_34a54ae93c', 'id': 'chatcmpl-BoLgTBtEf2WIR7O2L7YTzrqO0jiK0', 'service_tier': 'default', 'finish_reason': 'stop', 'logprobs': None} id='run--ba58da17-aff9-4fc4-bca8-5d4a0f4ee506-0' usage_metadata={'input_tokens': 1497, 'output_tokens': 186, 'total_tokens': 1683, 'input_token_details': {'audio': 0, 'cache_read': 0}, 'output_token_details': {'audio': 0, 'reasoning': 0}}\n",
      "==================================\u001b[1m Ai Message \u001b[0m==================================\n",
      "\n",
      "Yes, Sunita Williams has returned to Earth after her last trip on the International Space Station (ISS). She, along with her fellow crew members, safely splashed down in the Gulf of Mexico on October 3, 2023.\n",
      "\n",
      "After her return, Sunita Williams shared that her experience had been a \"roller-coaster ride\" for her family and supporters. She also expressed feelings about missing certain aspects of life in space. While specific statements after her return may still be developing, ongoing discussions reflect on her mission's challenges and the adjustment back to Earth life.\n",
      "\n",
      "For more detailed information, you can read this article: [Sunita Williams Return to Earth](https://www.republicworld.com/science/sunita-williams-returns-to-earth-today-butch-wilmore-nick-hague-aleksandr-gorbunov-nasa-shares-3-key-mantras-for-big-space-milestones).\n"
     ]
    }
   ],
   "source": [
    "# Add a thread id to make the conversation persistent\n",
    "thread_id = {\"configurable\": {\"thread_id\":\"1\"}}\n",
    "user_prompt = \"Has Sunny Williams reach to earth from ISS from her last trip ? Has she given any statement after arrival ?\"\n",
    "messages = [HumanMessage(content=user_prompt)]\n",
    "\n",
    "# Instead of invoke call stream\n",
    "events = ai_agent.graph.stream(\n",
    "    {\"messages\": messages},\n",
    "    thread_id,\n",
    "    stream_mode=\"values\",\n",
    ")\n",
    "for event in events:\n",
    "    event[\"messages\"][-1].pretty_print()"
   ]
  },
  {
   "cell_type": "code",
   "execution_count": null,
   "metadata": {},
   "outputs": [],
   "source": [
    "# Continue the same conversation from above\n",
    "user_prompt = \"Where does her family leave? What is her work place in USA?\"\n",
    "messages = [HumanMessage(content=user_prompt)]\n",
    "\n",
    "# Instead of invoke call stream\n",
    "events = ai_agent.graph.stream(\n",
    "    {\"messages\": messages},\n",
    "    thread_id,\n",
    "    stream_mode=\"values\",\n",
    ")\n",
    "for event in events:\n",
    "    event[\"messages\"][-1].pretty_print()"
   ]
  }
 ],
 "metadata": {
  "kernelspec": {
   "display_name": ".venv",
   "language": "python",
   "name": "python3"
  },
  "language_info": {
   "codemirror_mode": {
    "name": "ipython",
    "version": 3
   },
   "file_extension": ".py",
   "mimetype": "text/x-python",
   "name": "python",
   "nbconvert_exporter": "python",
   "pygments_lexer": "ipython3",
   "version": "3.13.2"
  }
 },
 "nbformat": 4,
 "nbformat_minor": 2
}
