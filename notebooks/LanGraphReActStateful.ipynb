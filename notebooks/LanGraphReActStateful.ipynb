{
 "cells": [
  {
   "cell_type": "markdown",
   "metadata": {},
   "source": [
    "#### Make Agentic Session Stateful for the user\n",
    "- To achive session statefulness a checkpointer is provided by Langraph\n",
    "- A database is used to keep track of checkpointer\n",
    "- For quick demo, a in memory database is used\n",
    "- Pass the checkpointer to graph.compile step\n",
    "- Add a thread number assigned to user session to keep track of the conversation\n",
    "- Modify the LangGraph to Stream by changing the `invoke` call to `stream` call"
   ]
  },
  {
   "cell_type": "code",
   "execution_count": 24,
   "metadata": {},
   "outputs": [],
   "source": [
    "from langgraph.checkpoint.memory import MemorySaver\n",
    "memory = MemorySaver()"
   ]
  },
  {
   "cell_type": "code",
   "execution_count": 7,
   "metadata": {},
   "outputs": [
    {
     "name": "stdout",
     "output_type": "stream",
     "text": [
      "tool name -> tavily_search_results_json\n"
     ]
    }
   ],
   "source": [
    "from dotenv import load_dotenv, find_dotenv\n",
    "_ = load_dotenv(find_dotenv())\n",
    "from langgraph.graph import StateGraph, END \n",
    "from typing import TypedDict, Annotated\n",
    "import operator\n",
    "from langchain_core.messages import  AnyMessage, SystemMessage, HumanMessage, ToolMessage\n",
    "from langchain_openai import ChatOpenAI\n",
    "from langchain_community.tools.tavily_search import TavilySearchResults\n",
    "\n",
    "# Define tool that is available to langraph that an action edge can find\n",
    "tool = TavilySearchResults(max_results=3)\n",
    "print(f\"tool name -> {tool.name}\")\n"
   ]
  },
  {
   "cell_type": "markdown",
   "metadata": {},
   "source": [
    "#### Define A place holder for all the messages that is known as AgentState\n",
    "- This is a list of messages which keeps adding a new message everytime it is called"
   ]
  },
  {
   "cell_type": "code",
   "execution_count": 8,
   "metadata": {},
   "outputs": [],
   "source": [
    "class AgentState(TypedDict):\n",
    "    messages: Annotated[list[AnyMessage], operator.add]"
   ]
  },
  {
   "cell_type": "markdown",
   "metadata": {},
   "source": [
    "#### Define the Agent Class that performs:\n",
    "1. Call LLM in this example OpenAI\n",
    "2. Check if Action is present\n",
    "3. Take Action\n",
    "\n",
    "Steps in the code \n",
    "1. The constructor function takes model name, available tools choices and system prompt\n",
    "2. Start a LLM node\n",
    "3. Then add an action node\n",
    "4. Then define an action edge to link between LLM and action node. \n",
    "5. If no action decision made by LLM, then send to END node\n",
    "6. Create an edge to loop back to LLM node from Action Node\n",
    "7. Compile the graph and save it as class level attribute\n",
    "8. Create a dictionary of tools sent as parameters and save as class level attribute\n",
    "9. Save the tool name that sent as input as a class level attribute under the model"
   ]
  },
  {
   "cell_type": "code",
   "execution_count": 20,
   "metadata": {},
   "outputs": [],
   "source": [
    "class Agent:\n",
    "    def __init__(self,model,tools,checkpointer, system=\"\"):\n",
    "        # Save the system message as a class level attribute\n",
    "        self.system = system\n",
    "\n",
    "        # Initialize the state graph that will have one LLM node, One Tool node and one Action Edge\n",
    "        graph = StateGraph(AgentState)\n",
    "        # Start Node\n",
    "        graph.add_node(\"llm\",self.call_openai)\n",
    "        \n",
    "        # Action Node that is available as tool\n",
    "        graph.add_node(\"action\",self.action_node)\n",
    "\n",
    "        # Decision Edge to decide to use action node\n",
    "        # First parameter is the node from which this edge is coming from \n",
    "        # Second parameter is the function that let's langraph explore tools\n",
    "        # Third parameter is available nodes after the decision either action node or END node\n",
    "        graph.add_conditional_edges(\"llm\",self.action_edge,{True: \"action\", False: END})\n",
    "\n",
    "        # Create Another edge to loop back to LLM node from action node\n",
    "        graph.add_edge(\"action\",\"llm\")\n",
    "\n",
    "        # Define what node the graph should start, in this case the llm\n",
    "        graph.set_entry_point(\"llm\")\n",
    "\n",
    "        # Once setup done compile the graph and Save the graph at the class level\n",
    "        self.graph = graph.compile(checkpointer=checkpointer)\n",
    "\n",
    "        # Create a dictionary of available tools sent to the constructor\n",
    "        self.tools = {tool.name: tool for tool in tools}\n",
    "\n",
    "        # Bind tools to model so that LLM can search for tools\n",
    "        self.model = model.bind_tools(tools)\n",
    "\n",
    "\n",
    "    # Define function for call llm node\n",
    "    def call_openai(self, state: AgentState):\n",
    "        # get the messages saved in the Agent state object\n",
    "        messages = state[\"messages\"]\n",
    "        # If system message is not blank, append that to the beginning of the messages\n",
    "        if self.system:\n",
    "            system_message= [SystemMessage(content=self.system)]\n",
    "            messages =  system_message + messages\n",
    "        # Call the model with the messages, it should return response as a single message\n",
    "        resp = self.model.invoke(messages)\n",
    "        print(f\"Response from LLM -> {resp}\")\n",
    "        # Return the response message as a list, that will be appended to the existing messages due to operator.add annotation at class level\n",
    "        return {\"messages\": [resp]}\n",
    "    \n",
    "    # Define function for call action node\n",
    "    def action_node(self, state: AgentState):\n",
    "        # get the last message from the Agent State, since the last message is the response from LLM that suggests to use the tool\n",
    "        # tool calls attribute is expected which has the name of the tool to be called\n",
    "        referred_tools_list = state[\"messages\"][-1].tool_calls\n",
    "        results = []\n",
    "\n",
    "        # Tool calls can be multiple tools, so iterate over them\n",
    "        for tool in referred_tools_list:\n",
    "            print(f\"Tool to be called -> {tool}\")\n",
    "            # invoke tool call by finding the name and the arguments as suggested by LLM\n",
    "            result = self.tools[tool[\"name\"]].invoke(tool[\"args\"])\n",
    "            # Append the result to the results list\n",
    "            results.append(ToolMessage(tool_call_id=tool[\"id\"], name=tool[\"name\"], content=str(result)))\n",
    "            \n",
    "        print(f\"Finished tool call ...\")\n",
    "        # returns results and add to the messages list at class level\n",
    "        return {\"messages\": results}\n",
    "    \n",
    "    # Define the actiton edge function that decides whether to look for tool or not\n",
    "    # If the last message in the message list has tool_calls attribute, then return True, else False\n",
    "    def action_edge(self, state: AgentState):\n",
    "        result = state[\"messages\"][-1]\n",
    "        return  len(result.tool_calls) > 0\n",
    "        \n",
    "     "
   ]
  },
  {
   "cell_type": "markdown",
   "metadata": {},
   "source": [
    "#### Define a chat model with system prompt"
   ]
  },
  {
   "cell_type": "code",
   "execution_count": 25,
   "metadata": {},
   "outputs": [],
   "source": [
    "system_prompt = prompt = \"\"\"You are a smart research assistant. Use the search engine to look up information. \\\n",
    "You are allowed to make multiple calls (either together or in sequence). \\\n",
    "Only look up information when you are sure of what you want. \\\n",
    "If you need to look up some information before asking a follow up question, you are allowed to do that!\n",
    "\"\"\"\n",
    "\n",
    "model = ChatOpenAI(model=\"gpt-3.5-turbo\")\n",
    "ai_agent = Agent(model,[tool],memory, system_prompt)"
   ]
  },
  {
   "cell_type": "markdown",
   "metadata": {},
   "source": [
    "#### Invoke the langraph with user message as input"
   ]
  },
  {
   "cell_type": "code",
   "execution_count": 26,
   "metadata": {},
   "outputs": [
    {
     "name": "stdout",
     "output_type": "stream",
     "text": [
      "================================\u001b[1m Human Message \u001b[0m=================================\n",
      "\n",
      "What happens in the Spanish town parade in Baton Rouge on Saturday, March 1, 2025 ?\n",
      "Response from LLM -> content='' additional_kwargs={'tool_calls': [{'id': 'call_9wPf4IUL09Hu8qDs4QuM8Wco', 'function': {'arguments': '{\"query\":\"Spanish town parade in Baton Rouge March 1, 2025\"}', 'name': 'tavily_search_results_json'}, 'type': 'function'}], 'refusal': None} response_metadata={'token_usage': {'completion_tokens': 31, 'prompt_tokens': 167, 'total_tokens': 198, 'completion_tokens_details': {'accepted_prediction_tokens': 0, 'audio_tokens': 0, 'reasoning_tokens': 0, 'rejected_prediction_tokens': 0}, 'prompt_tokens_details': {'audio_tokens': 0, 'cached_tokens': 0}}, 'model_name': 'gpt-3.5-turbo-0125', 'system_fingerprint': None, 'finish_reason': 'tool_calls', 'logprobs': None} id='run-ef512a9f-0639-4199-bc17-0e1accc2d980-0' tool_calls=[{'name': 'tavily_search_results_json', 'args': {'query': 'Spanish town parade in Baton Rouge March 1, 2025'}, 'id': 'call_9wPf4IUL09Hu8qDs4QuM8Wco', 'type': 'tool_call'}] usage_metadata={'input_tokens': 167, 'output_tokens': 31, 'total_tokens': 198, 'input_token_details': {'audio': 0, 'cache_read': 0}, 'output_token_details': {'audio': 0, 'reasoning': 0}}\n",
      "==================================\u001b[1m Ai Message \u001b[0m==================================\n",
      "Tool Calls:\n",
      "  tavily_search_results_json (call_9wPf4IUL09Hu8qDs4QuM8Wco)\n",
      " Call ID: call_9wPf4IUL09Hu8qDs4QuM8Wco\n",
      "  Args:\n",
      "    query: Spanish town parade in Baton Rouge March 1, 2025\n",
      "Tool to be called -> {'name': 'tavily_search_results_json', 'args': {'query': 'Spanish town parade in Baton Rouge March 1, 2025'}, 'id': 'call_9wPf4IUL09Hu8qDs4QuM8Wco', 'type': 'tool_call'}\n",
      "Finished tool call ...\n",
      "=================================\u001b[1m Tool Message \u001b[0m=================================\n",
      "Name: tavily_search_results_json\n",
      "\n",
      "[{'url': 'https://www.cityclubbr.com/club-events-1/spanish-town-parade-03-01-2025', 'content': \"CCBR's Spanish Town Parade Block Party. Saturday, March 1, 2025; 10:00 AM 4:00 PM 10:00 16:00. City Club of Baton Rouge 355 North Boulevard Baton Rouge, LA\"}, {'url': 'https://www.eventbrite.com/e/11th-annual-spanishtown-parade-party-tickets-1071077574859', 'content': 'Eventbrite - Friends of the Capitol Park Museum presents 11th Annual Spanishtown Parade Party - Saturday, March 1, 2025 at Capitol Park Museum, Baton Rouge, LA.'}, {'url': 'https://www.theadvertiser.com/story/news/2025/03/01/what-can-i-expect-at-spanish-town-mardi-gras-parade-in-downtown-baton-rouge-pink-flamingos/80863984007/', 'content': 'The Spanish Town Mardi Gras parade in Downtown Baton Rouge will begin at noon on Saturday, March 1. During this parade, a procession of marching'}]\n",
      "Response from LLM -> content='The Spanish Town Parade in Baton Rouge is scheduled for Saturday, March 1, 2025. The parade will take place at City Club of Baton Rouge from 10:00 AM to 4:00 PM.' additional_kwargs={'refusal': None} response_metadata={'token_usage': {'completion_tokens': 46, 'prompt_tokens': 466, 'total_tokens': 512, 'completion_tokens_details': {'accepted_prediction_tokens': 0, 'audio_tokens': 0, 'reasoning_tokens': 0, 'rejected_prediction_tokens': 0}, 'prompt_tokens_details': {'audio_tokens': 0, 'cached_tokens': 0}}, 'model_name': 'gpt-3.5-turbo-0125', 'system_fingerprint': None, 'finish_reason': 'stop', 'logprobs': None} id='run-8a7d62cc-b41b-4e16-9ec6-1723c1230159-0' usage_metadata={'input_tokens': 466, 'output_tokens': 46, 'total_tokens': 512, 'input_token_details': {'audio': 0, 'cache_read': 0}, 'output_token_details': {'audio': 0, 'reasoning': 0}}\n",
      "==================================\u001b[1m Ai Message \u001b[0m==================================\n",
      "\n",
      "The Spanish Town Parade in Baton Rouge is scheduled for Saturday, March 1, 2025. The parade will take place at City Club of Baton Rouge from 10:00 AM to 4:00 PM.\n"
     ]
    }
   ],
   "source": [
    "# Add a thread id to make the conversation persistent\n",
    "thread_id = {\"configurable\": {\"thread_id\":\"1\"}}\n",
    "user_prompt = \"What happens in the Spanish town parade in Baton Rouge on Saturday, March 1, 2025 ?\"\n",
    "messages = [HumanMessage(content=user_prompt)]\n",
    "\n",
    "# Instead of invoke call stream\n",
    "events = ai_agent.graph.stream(\n",
    "    {\"messages\": messages},\n",
    "    thread_id,\n",
    "    stream_mode=\"values\",\n",
    ")\n",
    "for event in events:\n",
    "    event[\"messages\"][-1].pretty_print()"
   ]
  },
  {
   "cell_type": "code",
   "execution_count": null,
   "metadata": {},
   "outputs": [
    {
     "name": "stdout",
     "output_type": "stream",
     "text": [
      "================================\u001b[1m Human Message \u001b[0m=================================\n",
      "\n",
      "Considering road closures, where is the closest I can park my car ?\n",
      "Response from LLM -> content='' additional_kwargs={'tool_calls': [{'id': 'call_lEsvAZ1DjpA58FaLqC3QXauq', 'function': {'arguments': '{\"query\":\"closest parking to City Club of Baton Rouge for Spanish Town Parade on March 1, 2025\"}', 'name': 'tavily_search_results_json'}, 'type': 'function'}], 'refusal': None} response_metadata={'token_usage': {'completion_tokens': 38, 'prompt_tokens': 532, 'total_tokens': 570, 'completion_tokens_details': {'accepted_prediction_tokens': 0, 'audio_tokens': 0, 'reasoning_tokens': 0, 'rejected_prediction_tokens': 0}, 'prompt_tokens_details': {'audio_tokens': 0, 'cached_tokens': 0}}, 'model_name': 'gpt-3.5-turbo-0125', 'system_fingerprint': None, 'finish_reason': 'tool_calls', 'logprobs': None} id='run-bffcacc1-405b-46d9-a174-67b68352aa32-0' tool_calls=[{'name': 'tavily_search_results_json', 'args': {'query': 'closest parking to City Club of Baton Rouge for Spanish Town Parade on March 1, 2025'}, 'id': 'call_lEsvAZ1DjpA58FaLqC3QXauq', 'type': 'tool_call'}] usage_metadata={'input_tokens': 532, 'output_tokens': 38, 'total_tokens': 570, 'input_token_details': {'audio': 0, 'cache_read': 0}, 'output_token_details': {'audio': 0, 'reasoning': 0}}\n",
      "==================================\u001b[1m Ai Message \u001b[0m==================================\n",
      "Tool Calls:\n",
      "  tavily_search_results_json (call_lEsvAZ1DjpA58FaLqC3QXauq)\n",
      " Call ID: call_lEsvAZ1DjpA58FaLqC3QXauq\n",
      "  Args:\n",
      "    query: closest parking to City Club of Baton Rouge for Spanish Town Parade on March 1, 2025\n",
      "Tool to be called -> {'name': 'tavily_search_results_json', 'args': {'query': 'closest parking to City Club of Baton Rouge for Spanish Town Parade on March 1, 2025'}, 'id': 'call_lEsvAZ1DjpA58FaLqC3QXauq', 'type': 'tool_call'}\n",
      "Finished tool call ...\n",
      "=================================\u001b[1m Tool Message \u001b[0m=================================\n",
      "Name: tavily_search_results_json\n",
      "\n",
      "[{'url': 'https://www.cityclubbr.com/club-events-1/city-clubs-family-dinner-night-3-6-2019-fs5a7', 'content': 'PARKING: There will be no parking available at the Club. We suggest parking between North Boulevard and Government Street. Reservations Required. Open to all'}, {'url': 'https://www.cityclubbr.com/club-events-1/spanish-town-parade-03-01-2025', 'content': \"CCBR's Spanish Town Parade Block Party — City Club of Baton Rouge About The Club History Our Staff Board of Governors Location General Information Career Opportunities Membership Membership Types Membership Inquiry Reciprocal Listing MENUS Reservations BREAKFAST LUNCH CITY CLUB SPECIALS DINNER BAR BITES WINE OF THE MONTH Private Events Plan A Party Private Chef's Table Private Cocktail Classes Club EventsCCBR NewsContact UsMember Login City Club of Baton Rouge 355 North Boulevard Baton Rouge, LA, 70801 United States (map) OPEN BAR (11am-3pm) with a C4 Cocktail Club inspired Canned Specialty Cocktail Directly Behind Club - BACK LOT: Parade Viewing, Buffet Station, Drink Areas and Bar(s) _ Open Bar Hrs. ALSO, WE WILL CLOSE EARLY AT 4:00PM (SAT., MARCH 1, 2025) AFTER CITY CLUB'S ANNUAL SPANISH TOWN BLOCK PARTY\"}, {'url': 'https://www.louisianafirstnews.com/news/mardi-gras/spanish-town-parade-what-to-know-about-parade-route-parking/', 'content': 'Parking. Street parking is free after 6 p.m. Friday. Parking garages and surface parking lots are open throughout downtown with varying costs.'}]\n",
      "Response from LLM -> content='For the Spanish Town Parade on March 1, 2025, there will be no parking available at City Club of Baton Rouge. It is suggested to park between North Boulevard and Government Street. Additionally, street parking is free after 6 p.m. on Friday, and parking garages and surface parking lots are open throughout downtown Baton Rouge with varying costs.' additional_kwargs={'refusal': None} response_metadata={'token_usage': {'completion_tokens': 74, 'prompt_tokens': 946, 'total_tokens': 1020, 'completion_tokens_details': {'accepted_prediction_tokens': 0, 'audio_tokens': 0, 'reasoning_tokens': 0, 'rejected_prediction_tokens': 0}, 'prompt_tokens_details': {'audio_tokens': 0, 'cached_tokens': 0}}, 'model_name': 'gpt-3.5-turbo-0125', 'system_fingerprint': None, 'finish_reason': 'stop', 'logprobs': None} id='run-066297b9-bbf0-4f04-afeb-57e633ef8fe5-0' usage_metadata={'input_tokens': 946, 'output_tokens': 74, 'total_tokens': 1020, 'input_token_details': {'audio': 0, 'cache_read': 0}, 'output_token_details': {'audio': 0, 'reasoning': 0}}\n",
      "==================================\u001b[1m Ai Message \u001b[0m==================================\n",
      "\n",
      "For the Spanish Town Parade on March 1, 2025, there will be no parking available at City Club of Baton Rouge. It is suggested to park between North Boulevard and Government Street. Additionally, street parking is free after 6 p.m. on Friday, and parking garages and surface parking lots are open throughout downtown Baton Rouge with varying costs.\n"
     ]
    }
   ],
   "source": [
    "# Continue the same conversation from above\n",
    "user_prompt = \"Considering road closures, where is the closest I can park my car ?\"\n",
    "messages = [HumanMessage(content=user_prompt)]\n",
    "\n",
    "# Instead of invoke call stream\n",
    "events = ai_agent.graph.stream(\n",
    "    {\"messages\": messages},\n",
    "    thread_id,\n",
    "    stream_mode=\"values\",\n",
    ")\n",
    "for event in events:\n",
    "    event[\"messages\"][-1].pretty_print()"
   ]
  }
 ],
 "metadata": {
  "kernelspec": {
   "display_name": ".venv",
   "language": "python",
   "name": "python3"
  },
  "language_info": {
   "codemirror_mode": {
    "name": "ipython",
    "version": 3
   },
   "file_extension": ".py",
   "mimetype": "text/x-python",
   "name": "python",
   "nbconvert_exporter": "python",
   "pygments_lexer": "ipython3",
   "version": "3.13.1"
  }
 },
 "nbformat": 4,
 "nbformat_minor": 2
}
